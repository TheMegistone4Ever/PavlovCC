{
 "cells": [
  {
   "cell_type": "code",
   "id": "initial_id",
   "metadata": {
    "collapsed": true,
    "ExecuteTime": {
     "end_time": "2024-05-04T13:25:37.399291Z",
     "start_time": "2024-05-04T13:25:37.319454Z"
    }
   },
   "source": [
    "from ortools.linear_solver import pywraplp\n",
    "\n",
    "\n",
    "lp_solver = pywraplp.Solver.CreateSolver(\"GLOP\")\n",
    "lp_solver"
   ],
   "outputs": [
    {
     "data": {
      "text/plain": [
       "<ortools.linear_solver.pywraplp.Solver; proxy of <Swig Object of type 'operations_research::MPSolver *' at 0x000001E45E3D9F80> >"
      ]
     },
     "execution_count": 3,
     "metadata": {},
     "output_type": "execute_result"
    }
   ],
   "execution_count": 3
  },
  {
   "metadata": {
    "ExecuteTime": {
     "end_time": "2024-05-04T14:08:37.649578Z",
     "start_time": "2024-05-04T14:08:37.643615Z"
    }
   },
   "cell_type": "code",
   "source": [
    "from numpy import random, zeros, argsort\n",
    "\n",
    "\n",
    "aggregated_products = 20\n",
    "production_factors = 10\n",
    "upper_bound = 100\n",
    "\n",
    "# production_matrix[i][j] - value of a j-th production factor for i-th product\n",
    "production_matrix = random.randint(0, upper_bound, size=(aggregated_products, production_factors))\n",
    "\n",
    "# y[i] - how many first products we want to produce\n",
    "n1 = 9\n",
    "y_assigned = [random.randint(1, upper_bound) for i in range(n1)]\n",
    "\n",
    "# b[i] - recourse variables, the first n1 products are produced with the first production factors and must be greater than y_assigned[i]\n",
    "b = [random.randint(y_assigned[i] if i < n1 else 0, upper_bound) for i in range(aggregated_products)]\n",
    "\n",
    "# c - cost of production factors\n",
    "c = [random.randint(1, upper_bound) for i in range(production_factors)]\n",
    "\n",
    "# f - penalty for not producing enough of the first n1 products, must be less than c\n",
    "f = [random.randint(0, c[i]) for i in range(n1)]\n",
    "\n",
    "# priorities - order of production factors\n",
    "priorities = zeros(production_factors)\n",
    "\n",
    "# directive_terms - directive_terms - times we can use the directive term\n",
    "directive_terms = argsort(random.randint(0, upper_bound, size=production_factors))"
   ],
   "id": "a24a99ffa2dacce7",
   "outputs": [],
   "execution_count": 8
  },
  {
   "metadata": {},
   "cell_type": "code",
   "outputs": [],
   "execution_count": null,
   "source": "",
   "id": "2b674d3dd613c7db"
  },
  {
   "metadata": {},
   "cell_type": "code",
   "outputs": [],
   "execution_count": null,
   "source": "",
   "id": "e8d1228acab8f13f"
  },
  {
   "metadata": {},
   "cell_type": "code",
   "outputs": [],
   "execution_count": null,
   "source": "",
   "id": "23b078ca9aa37554"
  },
  {
   "metadata": {},
   "cell_type": "code",
   "outputs": [],
   "execution_count": null,
   "source": "",
   "id": "bb024b9c80807e50"
  },
  {
   "metadata": {
    "ExecuteTime": {
     "end_time": "2024-05-04T14:08:48.262671Z",
     "start_time": "2024-05-04T14:08:48.258877Z"
    }
   },
   "cell_type": "code",
   "source": [
    "y = [lp_solver.IntVar(0, lp_solver.infinity(), f\"y{i}\") for i in range(aggregated_products)]\n",
    "z = [lp_solver.IntVar(0, lp_solver.infinity(), f\"z{i}\") for i in range(production_factors)]"
   ],
   "id": "cdf1780d84764db5",
   "outputs": [],
   "execution_count": 9
  },
  {
   "metadata": {
    "ExecuteTime": {
     "end_time": "2024-05-04T14:10:37.804930Z",
     "start_time": "2024-05-04T14:10:37.800742Z"
    }
   },
   "cell_type": "code",
   "source": [
    "objective = lp_solver.Objective()\n",
    "for i, priority in enumerate(priorities):\n",
    "    objective.SetCoefficient(y[i], priority)\n",
    "objective.SetMaximization()"
   ],
   "id": "4c5fff2b224f485",
   "outputs": [],
   "execution_count": 10
  },
  {
   "metadata": {
    "ExecuteTime": {
     "end_time": "2024-05-04T14:12:18.174413Z",
     "start_time": "2024-05-04T14:12:17.746034Z"
    }
   },
   "cell_type": "code",
   "source": [
    "# Ax <= b\n",
    "for i in range(aggregated_products):\n",
    "    constraint = lp_solver.Constraint(-lp_solver.infinity(), b[i])  # y[i] <= b[i]\n",
    "    for j in range(production_factors):\n",
    "        constraint.SetCoefficient(y[j], production_matrix[i][j])"
   ],
   "id": "ba194a6164c4e221",
   "outputs": [
    {
     "ename": "TypeError",
     "evalue": "in method 'Constraint_SetCoefficient', argument 3 of type 'double'",
     "output_type": "error",
     "traceback": [
      "\u001B[1;31m---------------------------------------------------------------------------\u001B[0m",
      "\u001B[1;31mTypeError\u001B[0m                                 Traceback (most recent call last)",
      "Cell \u001B[1;32mIn[11], line 5\u001B[0m\n\u001B[0;32m      3\u001B[0m constraint \u001B[38;5;241m=\u001B[39m lp_solver\u001B[38;5;241m.\u001B[39mConstraint(\u001B[38;5;241m-\u001B[39mlp_solver\u001B[38;5;241m.\u001B[39minfinity(), b[i])  \u001B[38;5;66;03m# y[i] <= b[i]\u001B[39;00m\n\u001B[0;32m      4\u001B[0m \u001B[38;5;28;01mfor\u001B[39;00m j \u001B[38;5;129;01min\u001B[39;00m \u001B[38;5;28mrange\u001B[39m(production_factors):\n\u001B[1;32m----> 5\u001B[0m     \u001B[43mconstraint\u001B[49m\u001B[38;5;241;43m.\u001B[39;49m\u001B[43mSetCoefficient\u001B[49m\u001B[43m(\u001B[49m\u001B[43my\u001B[49m\u001B[43m[\u001B[49m\u001B[43mj\u001B[49m\u001B[43m]\u001B[49m\u001B[43m,\u001B[49m\u001B[43m \u001B[49m\u001B[43mproduction_matrix\u001B[49m\u001B[43m[\u001B[49m\u001B[43mi\u001B[49m\u001B[43m]\u001B[49m\u001B[43m[\u001B[49m\u001B[43mj\u001B[49m\u001B[43m]\u001B[49m\u001B[43m)\u001B[49m\n",
      "File \u001B[1;32m~\\PycharmProjects\\PavlovCC\\.venv\\Lib\\site-packages\\ortools\\linear_solver\\pywraplp.py:784\u001B[0m, in \u001B[0;36mConstraint.SetCoefficient\u001B[1;34m(self, var, coeff)\u001B[0m\n\u001B[0;32m    777\u001B[0m \u001B[38;5;28;01mdef\u001B[39;00m \u001B[38;5;21mSetCoefficient\u001B[39m(\u001B[38;5;28mself\u001B[39m, var, coeff):\n\u001B[0;32m    778\u001B[0m \u001B[38;5;250m    \u001B[39m\u001B[38;5;124mr\u001B[39m\u001B[38;5;124;03m\"\"\"\u001B[39;00m\n\u001B[0;32m    779\u001B[0m \u001B[38;5;124;03m    Sets the coefficient of the variable on the constraint.\u001B[39;00m\n\u001B[0;32m    780\u001B[0m \n\u001B[0;32m    781\u001B[0m \u001B[38;5;124;03m    If the variable does not belong to the solver, the function just returns,\u001B[39;00m\n\u001B[0;32m    782\u001B[0m \u001B[38;5;124;03m    or crashes in non-opt mode.\u001B[39;00m\n\u001B[0;32m    783\u001B[0m \u001B[38;5;124;03m    \"\"\"\u001B[39;00m\n\u001B[1;32m--> 784\u001B[0m     \u001B[38;5;28;01mreturn\u001B[39;00m \u001B[43m_pywraplp\u001B[49m\u001B[38;5;241;43m.\u001B[39;49m\u001B[43mConstraint_SetCoefficient\u001B[49m\u001B[43m(\u001B[49m\u001B[38;5;28;43mself\u001B[39;49m\u001B[43m,\u001B[49m\u001B[43m \u001B[49m\u001B[43mvar\u001B[49m\u001B[43m,\u001B[49m\u001B[43m \u001B[49m\u001B[43mcoeff\u001B[49m\u001B[43m)\u001B[49m\n",
      "\u001B[1;31mTypeError\u001B[0m: in method 'Constraint_SetCoefficient', argument 3 of type 'double'"
     ]
    }
   ],
   "execution_count": 11
  },
  {
   "metadata": {
    "ExecuteTime": {
     "end_time": "2024-05-04T13:24:04.342336Z",
     "start_time": "2024-05-04T13:24:04.340586Z"
    }
   },
   "cell_type": "code",
   "source": "",
   "id": "dc459e77be24e221",
   "outputs": [],
   "execution_count": 1
  },
  {
   "metadata": {
    "ExecuteTime": {
     "end_time": "2024-05-04T13:24:04.344795Z",
     "start_time": "2024-05-04T13:24:04.343356Z"
    }
   },
   "cell_type": "code",
   "source": "",
   "id": "b9662b3be67ae881",
   "outputs": [],
   "execution_count": 1
  },
  {
   "metadata": {
    "ExecuteTime": {
     "end_time": "2024-05-04T13:24:04.347561Z",
     "start_time": "2024-05-04T13:24:04.345806Z"
    }
   },
   "cell_type": "code",
   "source": "",
   "id": "1aa4a65aecc7b9f7",
   "outputs": [],
   "execution_count": 1
  },
  {
   "metadata": {
    "ExecuteTime": {
     "end_time": "2024-05-04T13:24:04.350334Z",
     "start_time": "2024-05-04T13:24:04.348574Z"
    }
   },
   "cell_type": "code",
   "source": "",
   "id": "ec1b359f7b90639d",
   "outputs": [],
   "execution_count": 1
  },
  {
   "metadata": {},
   "cell_type": "code",
   "outputs": [],
   "execution_count": null,
   "source": "",
   "id": "cacbe88fdda2e156"
  }
 ],
 "metadata": {
  "kernelspec": {
   "display_name": "Python 3",
   "language": "python",
   "name": "python3"
  },
  "language_info": {
   "codemirror_mode": {
    "name": "ipython",
    "version": 2
   },
   "file_extension": ".py",
   "mimetype": "text/x-python",
   "name": "python",
   "nbconvert_exporter": "python",
   "pygments_lexer": "ipython2",
   "version": "2.7.6"
  }
 },
 "nbformat": 4,
 "nbformat_minor": 5
}
